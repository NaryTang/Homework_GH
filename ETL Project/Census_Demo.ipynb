{
 "cells": [
  {
   "cell_type": "code",
   "execution_count": 1,
   "metadata": {},
   "outputs": [],
   "source": [
    "# Dependencies\n",
    "import numpy as np\n",
    "import pandas as pd\n",
    "import matplotlib.pyplot as plt\n",
    "import requests\n",
    "from census import Census\n",
    "\n",
    "# Census API Key\n",
    "from config import api_key\n",
    "c = Census(api_key, year=2013)"
   ]
  },
  {
   "cell_type": "code",
   "execution_count": 3,
   "metadata": {},
   "outputs": [
    {
     "ename": "SyntaxError",
     "evalue": "unexpected EOF while parsing (<ipython-input-3-4bdeb61eddac>, line 29)",
     "output_type": "error",
     "traceback": [
      "\u001b[1;36m  File \u001b[1;32m\"<ipython-input-3-4bdeb61eddac>\"\u001b[1;36m, line \u001b[1;32m29\u001b[0m\n\u001b[1;33m    # census_pd.head()\u001b[0m\n\u001b[1;37m                      ^\u001b[0m\n\u001b[1;31mSyntaxError\u001b[0m\u001b[1;31m:\u001b[0m unexpected EOF while parsing\n"
     ]
    }
   ],
   "source": [
    "# Run Census Search to retrieve data on all zip codes (2013 ACS5 Census)\n",
    "# See: https://github.com/CommerceDataService/census-wrapper for library documentation\n",
    "# See: https://gist.github.com/afhaque/60558290d6efd892351c4b64e5c01e9b for labels\n",
    "census_data = c.acs5.get((\"NAME\", \"B09019_001E\", \"B09019_030E\", \"B09019_027E\"), {'for': 'state:*'})\n",
    "\n",
    "# # Convert to DataFrame\n",
    "# census_pd = pd.DataFrame(census_data)\n",
    "\n",
    "# # Column Reordering\n",
    "# census_pd = census_pd.rename(columns={\"B09019_001E\": \"Total\",\n",
    "#                                       \"B09019_030E\": \"Females_Living_Alone\",\n",
    "#                                       \"B09019_027E\": \"Males_Living_Alone\",\n",
    "#                                       \"NAME\": \"Name\", \n",
    "#                                       \"state\": \"State\"}).copy()\n",
    "\n",
    "# census_pd.head()\n",
    "\n",
    "# Add in Poverty Rate (Poverty Count / Population)\n",
    "# census_pd[\"Poverty Rate\"] = 100 * \\\n",
    "#     census_pd[\"Poverty Count\"].astype(\n",
    "#         int) / census_pd[\"Population\"].astype(int)\n",
    "\n",
    "# Final DataFrame\n",
    "# census_pd = census_pd[[\"Zipcode\", \"Population\", \"Median Age\", \"Household Income\",\n",
    "#                        \"Per Capita Income\", \"Poverty Count\", \"Poverty Rate\"]]\n",
    "\n",
    "# # Visualize\n",
    "# print(len(census_pd))\n",
    "# census_pd.head()"
   ]
  },
  {
   "cell_type": "code",
   "execution_count": 3,
   "metadata": {
    "collapsed": true
   },
   "outputs": [],
   "source": [
    "# Save as a csv\n",
    "# Note to avoid any issues later, use encoding=\"utf-8\"\n",
    "census_pd.to_csv(\"census_data.csv\", encoding=\"utf-8\", index=False)"
   ]
  }
 ],
 "metadata": {
  "anaconda-cloud": {},
  "kernelspec": {
   "display_name": "Python 3",
   "language": "python",
   "name": "python3"
  },
  "language_info": {
   "codemirror_mode": {
    "name": "ipython",
    "version": 3
   },
   "file_extension": ".py",
   "mimetype": "text/x-python",
   "name": "python",
   "nbconvert_exporter": "python",
   "pygments_lexer": "ipython3",
   "version": "3.7.1"
  }
 },
 "nbformat": 4,
 "nbformat_minor": 1
}
