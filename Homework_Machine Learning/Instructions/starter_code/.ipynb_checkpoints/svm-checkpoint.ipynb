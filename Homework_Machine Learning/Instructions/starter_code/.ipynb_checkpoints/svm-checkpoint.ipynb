{
 "cells": [
  {
   "cell_type": "code",
   "execution_count": 27,
   "metadata": {},
   "outputs": [
    {
     "data": {
      "text/plain": [
       "'2.2.4-tf'"
      ]
     },
     "execution_count": 27,
     "metadata": {},
     "output_type": "execute_result"
    }
   ],
   "source": [
    "import pandas as pd\n",
    "import numpy as np\n",
    "from numpy.random import seed\n",
    "seed(1)\n",
    "import tensorflow\n",
    "tensorflow.keras.__version__"
   ]
  },
  {
   "cell_type": "markdown",
   "metadata": {},
   "source": [
    "# Read the CSV and Perform Basic Data Cleaning"
   ]
  },
  {
   "cell_type": "code",
   "execution_count": 2,
   "metadata": {},
   "outputs": [
    {
     "data": {
      "text/html": [
       "<div>\n",
       "<style scoped>\n",
       "    .dataframe tbody tr th:only-of-type {\n",
       "        vertical-align: middle;\n",
       "    }\n",
       "\n",
       "    .dataframe tbody tr th {\n",
       "        vertical-align: top;\n",
       "    }\n",
       "\n",
       "    .dataframe thead th {\n",
       "        text-align: right;\n",
       "    }\n",
       "</style>\n",
       "<table border=\"1\" class=\"dataframe\">\n",
       "  <thead>\n",
       "    <tr style=\"text-align: right;\">\n",
       "      <th></th>\n",
       "      <th>koi_disposition</th>\n",
       "      <th>koi_fpflag_nt</th>\n",
       "      <th>koi_fpflag_ss</th>\n",
       "      <th>koi_fpflag_co</th>\n",
       "      <th>koi_fpflag_ec</th>\n",
       "      <th>koi_period</th>\n",
       "      <th>koi_period_err1</th>\n",
       "      <th>koi_period_err2</th>\n",
       "      <th>koi_time0bk</th>\n",
       "      <th>koi_time0bk_err1</th>\n",
       "      <th>...</th>\n",
       "      <th>koi_steff_err2</th>\n",
       "      <th>koi_slogg</th>\n",
       "      <th>koi_slogg_err1</th>\n",
       "      <th>koi_slogg_err2</th>\n",
       "      <th>koi_srad</th>\n",
       "      <th>koi_srad_err1</th>\n",
       "      <th>koi_srad_err2</th>\n",
       "      <th>ra</th>\n",
       "      <th>dec</th>\n",
       "      <th>koi_kepmag</th>\n",
       "    </tr>\n",
       "  </thead>\n",
       "  <tbody>\n",
       "    <tr>\n",
       "      <th>0</th>\n",
       "      <td>CONFIRMED</td>\n",
       "      <td>0</td>\n",
       "      <td>0</td>\n",
       "      <td>0</td>\n",
       "      <td>0</td>\n",
       "      <td>9.488036</td>\n",
       "      <td>2.775000e-05</td>\n",
       "      <td>-2.775000e-05</td>\n",
       "      <td>170.538750</td>\n",
       "      <td>0.002160</td>\n",
       "      <td>...</td>\n",
       "      <td>-81.0</td>\n",
       "      <td>4.467</td>\n",
       "      <td>0.064</td>\n",
       "      <td>-0.096</td>\n",
       "      <td>0.927</td>\n",
       "      <td>0.105</td>\n",
       "      <td>-0.061</td>\n",
       "      <td>291.93423</td>\n",
       "      <td>48.141651</td>\n",
       "      <td>15.347</td>\n",
       "    </tr>\n",
       "    <tr>\n",
       "      <th>1</th>\n",
       "      <td>CONFIRMED</td>\n",
       "      <td>0</td>\n",
       "      <td>0</td>\n",
       "      <td>0</td>\n",
       "      <td>0</td>\n",
       "      <td>54.418383</td>\n",
       "      <td>2.479000e-04</td>\n",
       "      <td>-2.479000e-04</td>\n",
       "      <td>162.513840</td>\n",
       "      <td>0.003520</td>\n",
       "      <td>...</td>\n",
       "      <td>-81.0</td>\n",
       "      <td>4.467</td>\n",
       "      <td>0.064</td>\n",
       "      <td>-0.096</td>\n",
       "      <td>0.927</td>\n",
       "      <td>0.105</td>\n",
       "      <td>-0.061</td>\n",
       "      <td>291.93423</td>\n",
       "      <td>48.141651</td>\n",
       "      <td>15.347</td>\n",
       "    </tr>\n",
       "    <tr>\n",
       "      <th>2</th>\n",
       "      <td>FALSE POSITIVE</td>\n",
       "      <td>0</td>\n",
       "      <td>1</td>\n",
       "      <td>0</td>\n",
       "      <td>0</td>\n",
       "      <td>19.899140</td>\n",
       "      <td>1.494000e-05</td>\n",
       "      <td>-1.494000e-05</td>\n",
       "      <td>175.850252</td>\n",
       "      <td>0.000581</td>\n",
       "      <td>...</td>\n",
       "      <td>-176.0</td>\n",
       "      <td>4.544</td>\n",
       "      <td>0.044</td>\n",
       "      <td>-0.176</td>\n",
       "      <td>0.868</td>\n",
       "      <td>0.233</td>\n",
       "      <td>-0.078</td>\n",
       "      <td>297.00482</td>\n",
       "      <td>48.134129</td>\n",
       "      <td>15.436</td>\n",
       "    </tr>\n",
       "    <tr>\n",
       "      <th>3</th>\n",
       "      <td>FALSE POSITIVE</td>\n",
       "      <td>0</td>\n",
       "      <td>1</td>\n",
       "      <td>0</td>\n",
       "      <td>0</td>\n",
       "      <td>1.736952</td>\n",
       "      <td>2.630000e-07</td>\n",
       "      <td>-2.630000e-07</td>\n",
       "      <td>170.307565</td>\n",
       "      <td>0.000115</td>\n",
       "      <td>...</td>\n",
       "      <td>-174.0</td>\n",
       "      <td>4.564</td>\n",
       "      <td>0.053</td>\n",
       "      <td>-0.168</td>\n",
       "      <td>0.791</td>\n",
       "      <td>0.201</td>\n",
       "      <td>-0.067</td>\n",
       "      <td>285.53461</td>\n",
       "      <td>48.285210</td>\n",
       "      <td>15.597</td>\n",
       "    </tr>\n",
       "    <tr>\n",
       "      <th>4</th>\n",
       "      <td>CONFIRMED</td>\n",
       "      <td>0</td>\n",
       "      <td>0</td>\n",
       "      <td>0</td>\n",
       "      <td>0</td>\n",
       "      <td>2.525592</td>\n",
       "      <td>3.761000e-06</td>\n",
       "      <td>-3.761000e-06</td>\n",
       "      <td>171.595550</td>\n",
       "      <td>0.001130</td>\n",
       "      <td>...</td>\n",
       "      <td>-211.0</td>\n",
       "      <td>4.438</td>\n",
       "      <td>0.070</td>\n",
       "      <td>-0.210</td>\n",
       "      <td>1.046</td>\n",
       "      <td>0.334</td>\n",
       "      <td>-0.133</td>\n",
       "      <td>288.75488</td>\n",
       "      <td>48.226200</td>\n",
       "      <td>15.509</td>\n",
       "    </tr>\n",
       "  </tbody>\n",
       "</table>\n",
       "<p>5 rows × 41 columns</p>\n",
       "</div>"
      ],
      "text/plain": [
       "  koi_disposition  koi_fpflag_nt  koi_fpflag_ss  koi_fpflag_co  koi_fpflag_ec  \\\n",
       "0       CONFIRMED              0              0              0              0   \n",
       "1       CONFIRMED              0              0              0              0   \n",
       "2  FALSE POSITIVE              0              1              0              0   \n",
       "3  FALSE POSITIVE              0              1              0              0   \n",
       "4       CONFIRMED              0              0              0              0   \n",
       "\n",
       "   koi_period  koi_period_err1  koi_period_err2  koi_time0bk  \\\n",
       "0    9.488036     2.775000e-05    -2.775000e-05   170.538750   \n",
       "1   54.418383     2.479000e-04    -2.479000e-04   162.513840   \n",
       "2   19.899140     1.494000e-05    -1.494000e-05   175.850252   \n",
       "3    1.736952     2.630000e-07    -2.630000e-07   170.307565   \n",
       "4    2.525592     3.761000e-06    -3.761000e-06   171.595550   \n",
       "\n",
       "   koi_time0bk_err1     ...      koi_steff_err2  koi_slogg  koi_slogg_err1  \\\n",
       "0          0.002160     ...               -81.0      4.467           0.064   \n",
       "1          0.003520     ...               -81.0      4.467           0.064   \n",
       "2          0.000581     ...              -176.0      4.544           0.044   \n",
       "3          0.000115     ...              -174.0      4.564           0.053   \n",
       "4          0.001130     ...              -211.0      4.438           0.070   \n",
       "\n",
       "   koi_slogg_err2  koi_srad  koi_srad_err1  koi_srad_err2         ra  \\\n",
       "0          -0.096     0.927          0.105         -0.061  291.93423   \n",
       "1          -0.096     0.927          0.105         -0.061  291.93423   \n",
       "2          -0.176     0.868          0.233         -0.078  297.00482   \n",
       "3          -0.168     0.791          0.201         -0.067  285.53461   \n",
       "4          -0.210     1.046          0.334         -0.133  288.75488   \n",
       "\n",
       "         dec  koi_kepmag  \n",
       "0  48.141651      15.347  \n",
       "1  48.141651      15.347  \n",
       "2  48.134129      15.436  \n",
       "3  48.285210      15.597  \n",
       "4  48.226200      15.509  \n",
       "\n",
       "[5 rows x 41 columns]"
      ]
     },
     "execution_count": 2,
     "metadata": {},
     "output_type": "execute_result"
    }
   ],
   "source": [
    "df = pd.read_csv(\"cumulative.csv\")\n",
    "df = df.drop(columns=[\"rowid\", \"kepid\", \"kepoi_name\", \"kepler_name\", \"koi_pdisposition\", \"koi_score\", \"koi_tce_delivname\"])\n",
    "# Drop the null columns where all values are null\n",
    "df = df.dropna(axis='columns', how='all')\n",
    "# Drop the null rows\n",
    "df = df.dropna()\n",
    "df.head()"
   ]
  },
  {
   "cell_type": "markdown",
   "metadata": {},
   "source": [
    "# Create a Train Test Split\n",
    "\n",
    "Use `koi_disposition` for the y values"
   ]
  },
  {
   "cell_type": "code",
   "execution_count": 3,
   "metadata": {},
   "outputs": [
    {
     "name": "stdout",
     "output_type": "stream",
     "text": [
      "(8744, 40) (8744,)\n"
     ]
    }
   ],
   "source": [
    "X = df.drop(\"koi_disposition\", axis = 1)\n",
    "y = df[\"koi_disposition\"]\n",
    "print(X.shape, y.shape)"
   ]
  },
  {
   "cell_type": "code",
   "execution_count": 4,
   "metadata": {},
   "outputs": [],
   "source": [
    "from sklearn.model_selection import train_test_split\n",
    "from sklearn.preprocessing import LabelEncoder, MinMaxScaler"
   ]
  },
  {
   "cell_type": "code",
   "execution_count": 5,
   "metadata": {},
   "outputs": [],
   "source": [
    "X_train, X_test, y_train, y_test = train_test_split(\n",
    "    X, y, random_state=1, stratify=y)"
   ]
  },
  {
   "cell_type": "markdown",
   "metadata": {},
   "source": [
    "# Pre-processing\n",
    "\n",
    "Scale the data using the MinMaxScaler"
   ]
  },
  {
   "cell_type": "code",
   "execution_count": 6,
   "metadata": {},
   "outputs": [],
   "source": [
    "X_scaler = MinMaxScaler().fit(X_train)\n",
    "X_train_scaled = X_scaler.transform(X_train)\n",
    "X_test_scaled = X_scaler.transform(X_test)"
   ]
  },
  {
   "cell_type": "code",
   "execution_count": 7,
   "metadata": {},
   "outputs": [
    {
     "data": {
      "text/html": [
       "<div>\n",
       "<style scoped>\n",
       "    .dataframe tbody tr th:only-of-type {\n",
       "        vertical-align: middle;\n",
       "    }\n",
       "\n",
       "    .dataframe tbody tr th {\n",
       "        vertical-align: top;\n",
       "    }\n",
       "\n",
       "    .dataframe thead th {\n",
       "        text-align: right;\n",
       "    }\n",
       "</style>\n",
       "<table border=\"1\" class=\"dataframe\">\n",
       "  <thead>\n",
       "    <tr style=\"text-align: right;\">\n",
       "      <th></th>\n",
       "      <th>koi_fpflag_nt</th>\n",
       "      <th>koi_fpflag_ss</th>\n",
       "      <th>koi_fpflag_co</th>\n",
       "      <th>koi_fpflag_ec</th>\n",
       "      <th>koi_period</th>\n",
       "      <th>koi_period_err1</th>\n",
       "      <th>koi_period_err2</th>\n",
       "      <th>koi_time0bk</th>\n",
       "      <th>koi_time0bk_err1</th>\n",
       "      <th>koi_time0bk_err2</th>\n",
       "      <th>...</th>\n",
       "      <th>koi_steff_err2</th>\n",
       "      <th>koi_slogg</th>\n",
       "      <th>koi_slogg_err1</th>\n",
       "      <th>koi_slogg_err2</th>\n",
       "      <th>koi_srad</th>\n",
       "      <th>koi_srad_err1</th>\n",
       "      <th>koi_srad_err2</th>\n",
       "      <th>ra</th>\n",
       "      <th>dec</th>\n",
       "      <th>koi_kepmag</th>\n",
       "    </tr>\n",
       "  </thead>\n",
       "  <tbody>\n",
       "    <tr>\n",
       "      <th>5964</th>\n",
       "      <td>1</td>\n",
       "      <td>0</td>\n",
       "      <td>0</td>\n",
       "      <td>0</td>\n",
       "      <td>252.044440</td>\n",
       "      <td>0.027490</td>\n",
       "      <td>-0.027490</td>\n",
       "      <td>265.2010</td>\n",
       "      <td>0.0494</td>\n",
       "      <td>-0.0494</td>\n",
       "      <td>...</td>\n",
       "      <td>-136.0</td>\n",
       "      <td>4.621</td>\n",
       "      <td>0.041</td>\n",
       "      <td>-0.035</td>\n",
       "      <td>0.664</td>\n",
       "      <td>0.057</td>\n",
       "      <td>-0.059</td>\n",
       "      <td>292.79022</td>\n",
       "      <td>41.948639</td>\n",
       "      <td>15.884</td>\n",
       "    </tr>\n",
       "    <tr>\n",
       "      <th>9410</th>\n",
       "      <td>1</td>\n",
       "      <td>0</td>\n",
       "      <td>0</td>\n",
       "      <td>0</td>\n",
       "      <td>371.518520</td>\n",
       "      <td>0.015790</td>\n",
       "      <td>-0.015790</td>\n",
       "      <td>317.6836</td>\n",
       "      <td>0.0339</td>\n",
       "      <td>-0.0339</td>\n",
       "      <td>...</td>\n",
       "      <td>-206.0</td>\n",
       "      <td>4.377</td>\n",
       "      <td>0.101</td>\n",
       "      <td>-0.203</td>\n",
       "      <td>1.089</td>\n",
       "      <td>0.364</td>\n",
       "      <td>-0.145</td>\n",
       "      <td>293.06400</td>\n",
       "      <td>45.034210</td>\n",
       "      <td>13.731</td>\n",
       "    </tr>\n",
       "    <tr>\n",
       "      <th>4204</th>\n",
       "      <td>0</td>\n",
       "      <td>0</td>\n",
       "      <td>1</td>\n",
       "      <td>0</td>\n",
       "      <td>8.038670</td>\n",
       "      <td>0.000114</td>\n",
       "      <td>-0.000114</td>\n",
       "      <td>135.3098</td>\n",
       "      <td>0.0123</td>\n",
       "      <td>-0.0123</td>\n",
       "      <td>...</td>\n",
       "      <td>-181.0</td>\n",
       "      <td>4.485</td>\n",
       "      <td>0.050</td>\n",
       "      <td>-0.200</td>\n",
       "      <td>0.975</td>\n",
       "      <td>0.282</td>\n",
       "      <td>-0.101</td>\n",
       "      <td>290.51785</td>\n",
       "      <td>41.238762</td>\n",
       "      <td>14.999</td>\n",
       "    </tr>\n",
       "    <tr>\n",
       "      <th>5933</th>\n",
       "      <td>0</td>\n",
       "      <td>0</td>\n",
       "      <td>0</td>\n",
       "      <td>0</td>\n",
       "      <td>18.782160</td>\n",
       "      <td>0.000406</td>\n",
       "      <td>-0.000406</td>\n",
       "      <td>147.8508</td>\n",
       "      <td>0.0148</td>\n",
       "      <td>-0.0148</td>\n",
       "      <td>...</td>\n",
       "      <td>-167.0</td>\n",
       "      <td>4.488</td>\n",
       "      <td>0.048</td>\n",
       "      <td>-0.290</td>\n",
       "      <td>0.940</td>\n",
       "      <td>0.386</td>\n",
       "      <td>-0.087</td>\n",
       "      <td>291.76413</td>\n",
       "      <td>41.860130</td>\n",
       "      <td>14.043</td>\n",
       "    </tr>\n",
       "    <tr>\n",
       "      <th>6996</th>\n",
       "      <td>1</td>\n",
       "      <td>0</td>\n",
       "      <td>1</td>\n",
       "      <td>0</td>\n",
       "      <td>12.429716</td>\n",
       "      <td>0.000472</td>\n",
       "      <td>-0.000472</td>\n",
       "      <td>141.2846</td>\n",
       "      <td>0.0420</td>\n",
       "      <td>-0.0420</td>\n",
       "      <td>...</td>\n",
       "      <td>-200.0</td>\n",
       "      <td>4.534</td>\n",
       "      <td>0.037</td>\n",
       "      <td>-0.213</td>\n",
       "      <td>0.905</td>\n",
       "      <td>0.281</td>\n",
       "      <td>-0.088</td>\n",
       "      <td>297.52072</td>\n",
       "      <td>40.585419</td>\n",
       "      <td>15.842</td>\n",
       "    </tr>\n",
       "  </tbody>\n",
       "</table>\n",
       "<p>5 rows × 40 columns</p>\n",
       "</div>"
      ],
      "text/plain": [
       "      koi_fpflag_nt  koi_fpflag_ss  koi_fpflag_co  koi_fpflag_ec  koi_period  \\\n",
       "5964              1              0              0              0  252.044440   \n",
       "9410              1              0              0              0  371.518520   \n",
       "4204              0              0              1              0    8.038670   \n",
       "5933              0              0              0              0   18.782160   \n",
       "6996              1              0              1              0   12.429716   \n",
       "\n",
       "      koi_period_err1  koi_period_err2  koi_time0bk  koi_time0bk_err1  \\\n",
       "5964         0.027490        -0.027490     265.2010            0.0494   \n",
       "9410         0.015790        -0.015790     317.6836            0.0339   \n",
       "4204         0.000114        -0.000114     135.3098            0.0123   \n",
       "5933         0.000406        -0.000406     147.8508            0.0148   \n",
       "6996         0.000472        -0.000472     141.2846            0.0420   \n",
       "\n",
       "      koi_time0bk_err2     ...      koi_steff_err2  koi_slogg  koi_slogg_err1  \\\n",
       "5964           -0.0494     ...              -136.0      4.621           0.041   \n",
       "9410           -0.0339     ...              -206.0      4.377           0.101   \n",
       "4204           -0.0123     ...              -181.0      4.485           0.050   \n",
       "5933           -0.0148     ...              -167.0      4.488           0.048   \n",
       "6996           -0.0420     ...              -200.0      4.534           0.037   \n",
       "\n",
       "      koi_slogg_err2  koi_srad  koi_srad_err1  koi_srad_err2         ra  \\\n",
       "5964          -0.035     0.664          0.057         -0.059  292.79022   \n",
       "9410          -0.203     1.089          0.364         -0.145  293.06400   \n",
       "4204          -0.200     0.975          0.282         -0.101  290.51785   \n",
       "5933          -0.290     0.940          0.386         -0.087  291.76413   \n",
       "6996          -0.213     0.905          0.281         -0.088  297.52072   \n",
       "\n",
       "            dec  koi_kepmag  \n",
       "5964  41.948639      15.884  \n",
       "9410  45.034210      13.731  \n",
       "4204  41.238762      14.999  \n",
       "5933  41.860130      14.043  \n",
       "6996  40.585419      15.842  \n",
       "\n",
       "[5 rows x 40 columns]"
      ]
     },
     "execution_count": 7,
     "metadata": {},
     "output_type": "execute_result"
    }
   ],
   "source": [
    "X_train.head()"
   ]
  },
  {
   "cell_type": "markdown",
   "metadata": {},
   "source": [
    "# Train the Support Vector Machine"
   ]
  },
  {
   "cell_type": "code",
   "execution_count": 8,
   "metadata": {
    "scrolled": true
   },
   "outputs": [
    {
     "data": {
      "text/plain": [
       "SVC(C=1.0, cache_size=200, class_weight=None, coef0=0.0,\n",
       "    decision_function_shape='ovr', degree=3, gamma='auto_deprecated',\n",
       "    kernel='linear', max_iter=-1, probability=False, random_state=None,\n",
       "    shrinking=True, tol=0.001, verbose=False)"
      ]
     },
     "execution_count": 8,
     "metadata": {},
     "output_type": "execute_result"
    }
   ],
   "source": [
    "from sklearn.svm import SVC\n",
    "model = SVC(kernel='linear')\n",
    "model.fit(X_train_scaled, y_train)"
   ]
  },
  {
   "cell_type": "code",
   "execution_count": 10,
   "metadata": {
    "scrolled": true
   },
   "outputs": [
    {
     "name": "stdout",
     "output_type": "stream",
     "text": [
      "Training Data Score: 0.8479719426654467\n",
      "Testing Data Score: 0.8462946020128088\n"
     ]
    }
   ],
   "source": [
    "print(f\"Training Data Score: {model.score(X_train_scaled, y_train)}\")\n",
    "print(f\"Testing Data Score: {model.score(X_test_scaled, y_test)}\")"
   ]
  },
  {
   "cell_type": "code",
   "execution_count": 23,
   "metadata": {},
   "outputs": [
    {
     "name": "stderr",
     "output_type": "stream",
     "text": [
      "C:\\Users\\Nary Tang\\Anaconda3\\lib\\site-packages\\sklearn\\svm\\base.py:193: FutureWarning: The default value of gamma will change from 'auto' to 'scale' in version 0.22 to account better for unscaled features. Set gamma explicitly to 'auto' or 'scale' to avoid this warning.\n",
      "  \"avoid this warning.\", FutureWarning)\n"
     ]
    },
    {
     "data": {
      "text/plain": [
       "SVC(C=1.0, cache_size=200, class_weight=None, coef0=0.0,\n",
       "    decision_function_shape='ovr', degree=3, gamma='auto_deprecated',\n",
       "    kernel='rbf', max_iter=-1, probability=False, random_state=None,\n",
       "    shrinking=True, tol=0.001, verbose=False)"
      ]
     },
     "execution_count": 23,
     "metadata": {},
     "output_type": "execute_result"
    }
   ],
   "source": [
    "from sklearn.svm import SVC\n",
    "model2 = SVC(kernel='rbf')\n",
    "model2.fit(X_train_scaled, y_train)"
   ]
  },
  {
   "cell_type": "code",
   "execution_count": 24,
   "metadata": {},
   "outputs": [
    {
     "name": "stdout",
     "output_type": "stream",
     "text": [
      "Training Data Score: 0.8039036291552303\n",
      "Testing Data Score: 0.803751143641354\n"
     ]
    }
   ],
   "source": [
    "print(f\"Training Data Score: {model2.score(X_train_scaled, y_train)}\")\n",
    "print(f\"Testing Data Score: {model2.score(X_test_scaled, y_test)}\")"
   ]
  },
  {
   "cell_type": "markdown",
   "metadata": {},
   "source": [
    "# Hyperparameter Tuning\n",
    "\n",
    "Use `GridSearchCV` to tune the `C` and `gamma` parameters"
   ]
  },
  {
   "cell_type": "code",
   "execution_count": 21,
   "metadata": {},
   "outputs": [],
   "source": [
    "# Create the GridSearchCV model\n",
    "from sklearn.model_selection import GridSearchCV\n",
    "param_grid = {'C': [1, 5, 10, 50],\n",
    "              'gamma': [0.0001, 0.0005, 0.001, 0.005]}\n",
    "grid = GridSearchCV(model, param_grid, verbose=3)"
   ]
  },
  {
   "cell_type": "code",
   "execution_count": 22,
   "metadata": {},
   "outputs": [
    {
     "name": "stderr",
     "output_type": "stream",
     "text": [
      "C:\\Users\\Nary Tang\\Anaconda3\\lib\\site-packages\\sklearn\\model_selection\\_split.py:1978: FutureWarning: The default value of cv will change from 3 to 5 in version 0.22. Specify it explicitly to silence this warning.\n",
      "  warnings.warn(CV_WARNING, FutureWarning)\n",
      "[Parallel(n_jobs=1)]: Using backend SequentialBackend with 1 concurrent workers.\n"
     ]
    },
    {
     "name": "stdout",
     "output_type": "stream",
     "text": [
      "Fitting 3 folds for each of 16 candidates, totalling 48 fits\n",
      "[CV] C=1, gamma=0.0001 ...............................................\n",
      "[CV] ................... C=1, gamma=0.0001, score=0.498, total=   1.3s\n",
      "[CV] C=1, gamma=0.0001 ...............................................\n"
     ]
    },
    {
     "name": "stderr",
     "output_type": "stream",
     "text": [
      "[Parallel(n_jobs=1)]: Done   1 out of   1 | elapsed:    1.2s remaining:    0.0s\n"
     ]
    },
    {
     "name": "stdout",
     "output_type": "stream",
     "text": [
      "[CV] ................... C=1, gamma=0.0001, score=0.498, total=   1.2s\n",
      "[CV] C=1, gamma=0.0001 ...............................................\n"
     ]
    },
    {
     "name": "stderr",
     "output_type": "stream",
     "text": [
      "[Parallel(n_jobs=1)]: Done   2 out of   2 | elapsed:    2.4s remaining:    0.0s\n"
     ]
    },
    {
     "name": "stdout",
     "output_type": "stream",
     "text": [
      "[CV] ................... C=1, gamma=0.0001, score=0.498, total=   1.3s\n",
      "[CV] C=1, gamma=0.0005 ...............................................\n",
      "[CV] ................... C=1, gamma=0.0005, score=0.498, total=   1.3s\n",
      "[CV] C=1, gamma=0.0005 ...............................................\n",
      "[CV] ................... C=1, gamma=0.0005, score=0.498, total=   1.2s\n",
      "[CV] C=1, gamma=0.0005 ...............................................\n",
      "[CV] ................... C=1, gamma=0.0005, score=0.498, total=   1.2s\n",
      "[CV] C=1, gamma=0.001 ................................................\n",
      "[CV] .................... C=1, gamma=0.001, score=0.498, total=   1.2s\n",
      "[CV] C=1, gamma=0.001 ................................................\n",
      "[CV] .................... C=1, gamma=0.001, score=0.498, total=   1.2s\n",
      "[CV] C=1, gamma=0.001 ................................................\n",
      "[CV] .................... C=1, gamma=0.001, score=0.498, total=   1.2s\n",
      "[CV] C=1, gamma=0.005 ................................................\n",
      "[CV] .................... C=1, gamma=0.005, score=0.498, total=   1.3s\n",
      "[CV] C=1, gamma=0.005 ................................................\n",
      "[CV] .................... C=1, gamma=0.005, score=0.498, total=   1.3s\n",
      "[CV] C=1, gamma=0.005 ................................................\n",
      "[CV] .................... C=1, gamma=0.005, score=0.498, total=   1.3s\n",
      "[CV] C=5, gamma=0.0001 ...............................................\n",
      "[CV] ................... C=5, gamma=0.0001, score=0.498, total=   1.2s\n",
      "[CV] C=5, gamma=0.0001 ...............................................\n",
      "[CV] ................... C=5, gamma=0.0001, score=0.498, total=   1.3s\n",
      "[CV] C=5, gamma=0.0001 ...............................................\n",
      "[CV] ................... C=5, gamma=0.0001, score=0.498, total=   1.2s\n",
      "[CV] C=5, gamma=0.0005 ...............................................\n",
      "[CV] ................... C=5, gamma=0.0005, score=0.498, total=   1.2s\n",
      "[CV] C=5, gamma=0.0005 ...............................................\n",
      "[CV] ................... C=5, gamma=0.0005, score=0.498, total=   1.2s\n",
      "[CV] C=5, gamma=0.0005 ...............................................\n",
      "[CV] ................... C=5, gamma=0.0005, score=0.498, total=   1.3s\n",
      "[CV] C=5, gamma=0.001 ................................................\n",
      "[CV] .................... C=5, gamma=0.001, score=0.498, total=   1.2s\n",
      "[CV] C=5, gamma=0.001 ................................................\n",
      "[CV] .................... C=5, gamma=0.001, score=0.498, total=   1.2s\n",
      "[CV] C=5, gamma=0.001 ................................................\n",
      "[CV] .................... C=5, gamma=0.001, score=0.498, total=   1.2s\n",
      "[CV] C=5, gamma=0.005 ................................................\n",
      "[CV] .................... C=5, gamma=0.005, score=0.498, total=   1.3s\n",
      "[CV] C=5, gamma=0.005 ................................................\n",
      "[CV] .................... C=5, gamma=0.005, score=0.498, total=   1.3s\n",
      "[CV] C=5, gamma=0.005 ................................................\n",
      "[CV] .................... C=5, gamma=0.005, score=0.498, total=   1.3s\n",
      "[CV] C=10, gamma=0.0001 ..............................................\n",
      "[CV] .................. C=10, gamma=0.0001, score=0.498, total=   1.2s\n",
      "[CV] C=10, gamma=0.0001 ..............................................\n",
      "[CV] .................. C=10, gamma=0.0001, score=0.498, total=   1.3s\n",
      "[CV] C=10, gamma=0.0001 ..............................................\n",
      "[CV] .................. C=10, gamma=0.0001, score=0.498, total=   1.2s\n",
      "[CV] C=10, gamma=0.0005 ..............................................\n",
      "[CV] .................. C=10, gamma=0.0005, score=0.498, total=   1.2s\n",
      "[CV] C=10, gamma=0.0005 ..............................................\n",
      "[CV] .................. C=10, gamma=0.0005, score=0.498, total=   1.2s\n",
      "[CV] C=10, gamma=0.0005 ..............................................\n",
      "[CV] .................. C=10, gamma=0.0005, score=0.498, total=   1.3s\n",
      "[CV] C=10, gamma=0.001 ...............................................\n",
      "[CV] ................... C=10, gamma=0.001, score=0.498, total=   1.2s\n",
      "[CV] C=10, gamma=0.001 ...............................................\n",
      "[CV] ................... C=10, gamma=0.001, score=0.498, total=   1.2s\n",
      "[CV] C=10, gamma=0.001 ...............................................\n",
      "[CV] ................... C=10, gamma=0.001, score=0.498, total=   1.3s\n",
      "[CV] C=10, gamma=0.005 ...............................................\n",
      "[CV] ................... C=10, gamma=0.005, score=0.498, total=   1.3s\n",
      "[CV] C=10, gamma=0.005 ...............................................\n",
      "[CV] ................... C=10, gamma=0.005, score=0.498, total=   1.3s\n",
      "[CV] C=10, gamma=0.005 ...............................................\n",
      "[CV] ................... C=10, gamma=0.005, score=0.498, total=   1.3s\n",
      "[CV] C=50, gamma=0.0001 ..............................................\n",
      "[CV] .................. C=50, gamma=0.0001, score=0.498, total=   1.2s\n",
      "[CV] C=50, gamma=0.0001 ..............................................\n",
      "[CV] .................. C=50, gamma=0.0001, score=0.498, total=   1.2s\n",
      "[CV] C=50, gamma=0.0001 ..............................................\n",
      "[CV] .................. C=50, gamma=0.0001, score=0.498, total=   1.2s\n",
      "[CV] C=50, gamma=0.0005 ..............................................\n",
      "[CV] .................. C=50, gamma=0.0005, score=0.498, total=   1.2s\n",
      "[CV] C=50, gamma=0.0005 ..............................................\n",
      "[CV] .................. C=50, gamma=0.0005, score=0.498, total=   1.2s\n",
      "[CV] C=50, gamma=0.0005 ..............................................\n",
      "[CV] .................. C=50, gamma=0.0005, score=0.498, total=   1.2s\n",
      "[CV] C=50, gamma=0.001 ...............................................\n",
      "[CV] ................... C=50, gamma=0.001, score=0.498, total=   1.3s\n",
      "[CV] C=50, gamma=0.001 ...............................................\n",
      "[CV] ................... C=50, gamma=0.001, score=0.498, total=   1.3s\n",
      "[CV] C=50, gamma=0.001 ...............................................\n",
      "[CV] ................... C=50, gamma=0.001, score=0.498, total=   1.3s\n",
      "[CV] C=50, gamma=0.005 ...............................................\n",
      "[CV] ................... C=50, gamma=0.005, score=0.730, total=   1.3s\n",
      "[CV] C=50, gamma=0.005 ...............................................\n",
      "[CV] ................... C=50, gamma=0.005, score=0.734, total=   1.3s\n",
      "[CV] C=50, gamma=0.005 ...............................................\n",
      "[CV] ................... C=50, gamma=0.005, score=0.740, total=   1.3s\n"
     ]
    },
    {
     "name": "stderr",
     "output_type": "stream",
     "text": [
      "[Parallel(n_jobs=1)]: Done  48 out of  48 | elapsed:  1.0min finished\n"
     ]
    },
    {
     "data": {
      "text/plain": [
       "0.7397072278133577"
      ]
     },
     "execution_count": 22,
     "metadata": {},
     "output_type": "execute_result"
    }
   ],
   "source": [
    "# Train the model with GridSearch\n",
    "grid.fit(X_train_scaled, y_train)\n",
    "grid.score(X_test_scaled,y_test)"
   ]
  },
  {
   "cell_type": "code",
   "execution_count": 25,
   "metadata": {},
   "outputs": [
    {
     "name": "stdout",
     "output_type": "stream",
     "text": [
      "{'C': 50, 'gamma': 0.005}\n",
      "0.7346752058554438\n"
     ]
    }
   ],
   "source": [
    "print(grid.best_params_)\n",
    "print(grid.best_score_)"
   ]
  },
  {
   "cell_type": "markdown",
   "metadata": {},
   "source": [
    "# KNN"
   ]
  },
  {
   "cell_type": "code",
   "execution_count": 49,
   "metadata": {},
   "outputs": [],
   "source": [
    "import matplotlib.pyplot as plt\n",
    "from sklearn.neighbors import KNeighborsClassifier\n",
    "import pandas as pd\n",
    "import os"
   ]
  },
  {
   "cell_type": "code",
   "execution_count": 52,
   "metadata": {},
   "outputs": [
    {
     "name": "stdout",
     "output_type": "stream",
     "text": [
      "k: 1, Train/Test Score: 1.000/0.587\n",
      "k: 3, Train/Test Score: 0.795/0.624\n",
      "k: 5, Train/Test Score: 0.750/0.630\n",
      "k: 7, Train/Test Score: 0.733/0.635\n",
      "k: 9, Train/Test Score: 0.723/0.635\n",
      "k: 11, Train/Test Score: 0.715/0.633\n",
      "k: 13, Train/Test Score: 0.706/0.638\n",
      "k: 15, Train/Test Score: 0.702/0.634\n",
      "k: 17, Train/Test Score: 0.697/0.640\n",
      "k: 19, Train/Test Score: 0.692/0.639\n",
      "k: 21, Train/Test Score: 0.685/0.643\n",
      "k: 23, Train/Test Score: 0.684/0.642\n",
      "k: 25, Train/Test Score: 0.684/0.639\n",
      "k: 27, Train/Test Score: 0.681/0.645\n",
      "k: 29, Train/Test Score: 0.679/0.649\n",
      "k: 31, Train/Test Score: 0.681/0.649\n",
      "k: 33, Train/Test Score: 0.678/0.646\n",
      "k: 35, Train/Test Score: 0.674/0.642\n",
      "k: 37, Train/Test Score: 0.672/0.643\n",
      "k: 39, Train/Test Score: 0.669/0.646\n",
      "k: 41, Train/Test Score: 0.671/0.641\n",
      "k: 43, Train/Test Score: 0.666/0.641\n",
      "k: 45, Train/Test Score: 0.666/0.646\n",
      "k: 47, Train/Test Score: 0.663/0.643\n",
      "k: 49, Train/Test Score: 0.664/0.645\n",
      "k: 51, Train/Test Score: 0.661/0.639\n",
      "k: 53, Train/Test Score: 0.662/0.641\n",
      "k: 55, Train/Test Score: 0.662/0.639\n",
      "k: 57, Train/Test Score: 0.663/0.635\n",
      "k: 59, Train/Test Score: 0.663/0.634\n",
      "k: 61, Train/Test Score: 0.662/0.631\n",
      "k: 63, Train/Test Score: 0.661/0.635\n",
      "k: 65, Train/Test Score: 0.661/0.634\n",
      "k: 67, Train/Test Score: 0.660/0.636\n",
      "k: 69, Train/Test Score: 0.658/0.633\n",
      "k: 71, Train/Test Score: 0.658/0.634\n",
      "k: 73, Train/Test Score: 0.658/0.636\n",
      "k: 75, Train/Test Score: 0.655/0.635\n",
      "k: 77, Train/Test Score: 0.657/0.634\n",
      "k: 79, Train/Test Score: 0.656/0.635\n",
      "k: 81, Train/Test Score: 0.654/0.633\n",
      "k: 83, Train/Test Score: 0.654/0.634\n",
      "k: 85, Train/Test Score: 0.654/0.632\n",
      "k: 87, Train/Test Score: 0.651/0.632\n",
      "k: 89, Train/Test Score: 0.652/0.632\n",
      "k: 91, Train/Test Score: 0.651/0.635\n",
      "k: 93, Train/Test Score: 0.651/0.631\n",
      "k: 95, Train/Test Score: 0.651/0.634\n",
      "k: 97, Train/Test Score: 0.651/0.634\n",
      "k: 99, Train/Test Score: 0.653/0.632\n",
      "k: 101, Train/Test Score: 0.653/0.634\n",
      "k: 103, Train/Test Score: 0.653/0.635\n",
      "k: 105, Train/Test Score: 0.651/0.631\n",
      "k: 107, Train/Test Score: 0.652/0.632\n",
      "k: 109, Train/Test Score: 0.650/0.631\n",
      "k: 111, Train/Test Score: 0.652/0.632\n",
      "k: 113, Train/Test Score: 0.653/0.631\n",
      "k: 115, Train/Test Score: 0.652/0.631\n",
      "k: 117, Train/Test Score: 0.651/0.631\n",
      "k: 119, Train/Test Score: 0.651/0.633\n",
      "k: 121, Train/Test Score: 0.650/0.631\n",
      "k: 123, Train/Test Score: 0.650/0.630\n",
      "k: 125, Train/Test Score: 0.651/0.628\n",
      "k: 127, Train/Test Score: 0.649/0.630\n",
      "k: 129, Train/Test Score: 0.649/0.629\n",
      "k: 131, Train/Test Score: 0.650/0.629\n",
      "k: 133, Train/Test Score: 0.649/0.628\n",
      "k: 135, Train/Test Score: 0.651/0.629\n",
      "k: 137, Train/Test Score: 0.650/0.623\n",
      "k: 139, Train/Test Score: 0.647/0.625\n",
      "k: 141, Train/Test Score: 0.647/0.627\n",
      "k: 143, Train/Test Score: 0.649/0.628\n",
      "k: 145, Train/Test Score: 0.649/0.628\n",
      "k: 147, Train/Test Score: 0.647/0.629\n",
      "k: 149, Train/Test Score: 0.648/0.630\n",
      "k: 151, Train/Test Score: 0.648/0.633\n",
      "k: 153, Train/Test Score: 0.648/0.634\n",
      "k: 155, Train/Test Score: 0.647/0.633\n",
      "k: 157, Train/Test Score: 0.646/0.632\n",
      "k: 159, Train/Test Score: 0.646/0.632\n",
      "k: 161, Train/Test Score: 0.645/0.629\n",
      "k: 163, Train/Test Score: 0.645/0.631\n",
      "k: 165, Train/Test Score: 0.645/0.631\n",
      "k: 167, Train/Test Score: 0.645/0.630\n",
      "k: 169, Train/Test Score: 0.645/0.629\n",
      "k: 171, Train/Test Score: 0.644/0.629\n",
      "k: 173, Train/Test Score: 0.644/0.629\n",
      "k: 175, Train/Test Score: 0.643/0.630\n",
      "k: 177, Train/Test Score: 0.643/0.629\n",
      "k: 179, Train/Test Score: 0.643/0.630\n",
      "k: 181, Train/Test Score: 0.642/0.629\n",
      "k: 183, Train/Test Score: 0.642/0.628\n",
      "k: 185, Train/Test Score: 0.641/0.630\n",
      "k: 187, Train/Test Score: 0.642/0.631\n",
      "k: 189, Train/Test Score: 0.641/0.632\n",
      "k: 191, Train/Test Score: 0.642/0.630\n",
      "k: 193, Train/Test Score: 0.643/0.629\n",
      "k: 195, Train/Test Score: 0.642/0.628\n",
      "k: 197, Train/Test Score: 0.642/0.628\n",
      "k: 199, Train/Test Score: 0.642/0.629\n",
      "k: 201, Train/Test Score: 0.643/0.627\n",
      "k: 203, Train/Test Score: 0.641/0.629\n",
      "k: 205, Train/Test Score: 0.642/0.631\n",
      "k: 207, Train/Test Score: 0.643/0.629\n",
      "k: 209, Train/Test Score: 0.642/0.627\n",
      "k: 211, Train/Test Score: 0.643/0.628\n",
      "k: 213, Train/Test Score: 0.642/0.629\n",
      "k: 215, Train/Test Score: 0.643/0.627\n",
      "k: 217, Train/Test Score: 0.641/0.628\n",
      "k: 219, Train/Test Score: 0.642/0.628\n",
      "k: 221, Train/Test Score: 0.640/0.630\n",
      "k: 223, Train/Test Score: 0.640/0.627\n",
      "k: 225, Train/Test Score: 0.639/0.627\n",
      "k: 227, Train/Test Score: 0.638/0.626\n",
      "k: 229, Train/Test Score: 0.638/0.624\n",
      "k: 231, Train/Test Score: 0.638/0.625\n",
      "k: 233, Train/Test Score: 0.638/0.625\n",
      "k: 235, Train/Test Score: 0.638/0.627\n",
      "k: 237, Train/Test Score: 0.638/0.626\n",
      "k: 239, Train/Test Score: 0.639/0.627\n",
      "k: 241, Train/Test Score: 0.638/0.626\n",
      "k: 243, Train/Test Score: 0.639/0.626\n",
      "k: 245, Train/Test Score: 0.639/0.628\n",
      "k: 247, Train/Test Score: 0.638/0.626\n",
      "k: 249, Train/Test Score: 0.637/0.626\n",
      "k: 251, Train/Test Score: 0.638/0.626\n",
      "k: 253, Train/Test Score: 0.638/0.627\n",
      "k: 255, Train/Test Score: 0.637/0.628\n",
      "k: 257, Train/Test Score: 0.637/0.628\n",
      "k: 259, Train/Test Score: 0.638/0.627\n",
      "k: 261, Train/Test Score: 0.638/0.627\n",
      "k: 263, Train/Test Score: 0.638/0.626\n",
      "k: 265, Train/Test Score: 0.637/0.624\n",
      "k: 267, Train/Test Score: 0.638/0.627\n",
      "k: 269, Train/Test Score: 0.637/0.626\n",
      "k: 271, Train/Test Score: 0.636/0.624\n",
      "k: 273, Train/Test Score: 0.636/0.628\n",
      "k: 275, Train/Test Score: 0.637/0.625\n",
      "k: 277, Train/Test Score: 0.637/0.627\n",
      "k: 279, Train/Test Score: 0.636/0.626\n",
      "k: 281, Train/Test Score: 0.636/0.629\n",
      "k: 283, Train/Test Score: 0.636/0.630\n",
      "k: 285, Train/Test Score: 0.636/0.629\n",
      "k: 287, Train/Test Score: 0.637/0.631\n",
      "k: 289, Train/Test Score: 0.638/0.633\n",
      "k: 291, Train/Test Score: 0.637/0.630\n",
      "k: 293, Train/Test Score: 0.636/0.629\n",
      "k: 295, Train/Test Score: 0.635/0.630\n",
      "k: 297, Train/Test Score: 0.636/0.629\n",
      "k: 299, Train/Test Score: 0.635/0.629\n"
     ]
    },
    {
     "data": {
      "image/png": "[encoded data removed]",
      "text/plain": [
       "<Figure size 432x288 with 1 Axes>"
      ]
     },
     "metadata": {
      "needs_background": "light"
     },
     "output_type": "display_data"
    }
   ],
   "source": [
    "train_scores = []\n",
    "test_scores = []\n",
    "for k in range(1, 300, 2):\n",
    "    knn = KNeighborsClassifier(n_neighbors=k)\n",
    "    knn.fit(X_train, y_train)\n",
    "    train_score = knn.score(X_train, y_train)\n",
    "    test_score = knn.score(X_test, y_test)\n",
    "    train_scores.append(train_score)\n",
    "    test_scores.append(test_score)\n",
    "    print(f\"k: {k}, Train/Test Score: {train_score:.3f}/{test_score:.3f}\")\n",
    "    \n",
    "    \n",
    "plt.plot(range(1, 300, 2), train_scores, marker='o')\n",
    "plt.plot(range(1, 300, 2), test_scores, marker=\"x\")\n",
    "plt.xlabel(\"k neighbors\")\n",
    "plt.ylabel(\"Testing accuracy Score\")\n",
    "plt.show()"
   ]
  },
  {
   "cell_type": "code",
   "execution_count": 55,
   "metadata": {},
   "outputs": [
    {
     "name": "stdout",
     "output_type": "stream",
     "text": [
      "k=300 Test Acc: 0.638\n"
     ]
    }
   ],
   "source": [
    "knn = KNeighborsClassifier(n_neighbors=13)\n",
    "knn.fit(X_train, y_train)\n",
    "print('k=300 Test Acc: %.3f' % knn.score(X_test, y_test))"
   ]
  }
 ],
 "metadata": {
  "kernel_info": {
   "name": "dev"
  },
  "kernelspec": {
   "display_name": "Python 3",
   "language": "python",
   "name": "python3"
  },
  "language_info": {
   "codemirror_mode": {
    "name": "ipython",
    "version": 3
   },
   "file_extension": ".py",
   "mimetype": "text/x-python",
   "name": "python",
   "nbconvert_exporter": "python",
   "pygments_lexer": "ipython3",
   "version": "3.7.1"
  },
  "nteract": {
   "version": "0.12.3"
  }
 },
 "nbformat": 4,
 "nbformat_minor": 2
}
